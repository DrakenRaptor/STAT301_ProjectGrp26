{
 "cells": [
  {
   "cell_type": "code",
   "execution_count": 1,
   "metadata": {
    "vscode": {
     "languageId": "r"
    }
   },
   "outputs": [],
   "source": [
    "Sys.setLanguage(\"en\")   # Remove as necessary for others\n",
    "suppressPackageStartupMessages({\n",
    "library(haven)    # Loading of .dta datasets\n",
    "library(tidyverse)\n",
    "library(dplyr)\n",
    "library(datasets)\n",
    "library(car)\n",
    "# install.packages(\"vtable\")    # maybe needed if not installed\n",
    "# install.packages(\"corrplot\")  # maybe needed if not installed\n",
    "# install.packages(\"sandwich\")  # maybe needed if not installed\n",
    "# install.packages(\"lmtest\")    # maybe needed if not installed\n",
    "library(vtable)\n",
    "library(corrplot)\n",
    "library(sandwich)\n",
    "library(lmtest)\n",
    "library(repr)\n",
    "library(tidymodels)\n",
    "# install.packages(\"stargazer\")      # maybe needed if not installed\n",
    "library(stargazer)\n",
    "library(purrr)\n",
    "library(modelr)\n",
    "library(broom)\n",
    "library(infer)\n",
    "library(GGally)\n",
    "library(coefplot)\n",
    "})"
   ]
  },
  {
   "cell_type": "markdown",
   "metadata": {},
   "source": [
    "## Introduction & Data Description\n",
    "\n",
    "The assigned dataset for the project is the Customer Personality Analysis found on https://www.kaggle.com/datasets/imakash3011/customer-personality-analysis/data. In this project, the code below show the descriptive summary of the dataset. There are 2240 observations and 28 variables which captures various attrributes about customers which includes their demographic information, responses to marketing campaigns and purchase history."
   ]
  },
  {
   "cell_type": "code",
   "execution_count": 2,
   "metadata": {
    "vscode": {
     "languageId": "r"
    }
   },
   "outputs": [
    {
     "name": "stderr",
     "output_type": "stream",
     "text": [
      "\u001b[1mRows: \u001b[22m\u001b[34m2240\u001b[39m \u001b[1mColumns: \u001b[22m\u001b[34m29\u001b[39m\n",
      "\u001b[36m──\u001b[39m \u001b[1mColumn specification\u001b[22m \u001b[36m────────────────────────────────────────────────────────\u001b[39m\n",
      "\u001b[1mDelimiter:\u001b[22m \"\\t\"\n",
      "\u001b[31mchr\u001b[39m  (3): Education, Marital_Status, Dt_Customer\n",
      "\u001b[32mdbl\u001b[39m (26): ID, Year_Birth, Income, Kidhome, Teenhome, Recency, MntWines, MntF...\n",
      "\n",
      "\u001b[36mℹ\u001b[39m Use `spec()` to retrieve the full column specification for this data.\n",
      "\u001b[36mℹ\u001b[39m Specify the column types or set `show_col_types = FALSE` to quiet this message.\n"
     ]
    },
    {
     "name": "stdout",
     "output_type": "stream",
     "text": [
      "spc_tbl_ [2,240 × 29] (S3: spec_tbl_df/tbl_df/tbl/data.frame)\n",
      " $ ID                 : num [1:2240] 5524 2174 4141 6182 5324 ...\n",
      " $ Year_Birth         : num [1:2240] 1957 1954 1965 1984 1981 ...\n",
      " $ Education          : chr [1:2240] \"Graduation\" \"Graduation\" \"Graduation\" \"Graduation\" ...\n",
      " $ Marital_Status     : chr [1:2240] \"Single\" \"Single\" \"Together\" \"Together\" ...\n",
      " $ Income             : num [1:2240] 58138 46344 71613 26646 58293 ...\n",
      " $ Kidhome            : num [1:2240] 0 1 0 1 1 0 0 1 1 1 ...\n",
      " $ Teenhome           : num [1:2240] 0 1 0 0 0 1 1 0 0 1 ...\n",
      " $ Dt_Customer        : chr [1:2240] \"04-09-2012\" \"08-03-2014\" \"21-08-2013\" \"10-02-2014\" ...\n",
      " $ Recency            : num [1:2240] 58 38 26 26 94 16 34 32 19 68 ...\n",
      " $ MntWines           : num [1:2240] 635 11 426 11 173 520 235 76 14 28 ...\n",
      " $ MntFruits          : num [1:2240] 88 1 49 4 43 42 65 10 0 0 ...\n",
      " $ MntMeatProducts    : num [1:2240] 546 6 127 20 118 98 164 56 24 6 ...\n",
      " $ MntFishProducts    : num [1:2240] 172 2 111 10 46 0 50 3 3 1 ...\n",
      " $ MntSweetProducts   : num [1:2240] 88 1 21 3 27 42 49 1 3 1 ...\n",
      " $ MntGoldProds       : num [1:2240] 88 6 42 5 15 14 27 23 2 13 ...\n",
      " $ NumDealsPurchases  : num [1:2240] 3 2 1 2 5 2 4 2 1 1 ...\n",
      " $ NumWebPurchases    : num [1:2240] 8 1 8 2 5 6 7 4 3 1 ...\n",
      " $ NumCatalogPurchases: num [1:2240] 10 1 2 0 3 4 3 0 0 0 ...\n",
      " $ NumStorePurchases  : num [1:2240] 4 2 10 4 6 10 7 4 2 0 ...\n",
      " $ NumWebVisitsMonth  : num [1:2240] 7 5 4 6 5 6 6 8 9 20 ...\n",
      " $ AcceptedCmp3       : num [1:2240] 0 0 0 0 0 0 0 0 0 1 ...\n",
      " $ AcceptedCmp4       : num [1:2240] 0 0 0 0 0 0 0 0 0 0 ...\n",
      " $ AcceptedCmp5       : num [1:2240] 0 0 0 0 0 0 0 0 0 0 ...\n",
      " $ AcceptedCmp1       : num [1:2240] 0 0 0 0 0 0 0 0 0 0 ...\n",
      " $ AcceptedCmp2       : num [1:2240] 0 0 0 0 0 0 0 0 0 0 ...\n",
      " $ Complain           : num [1:2240] 0 0 0 0 0 0 0 0 0 0 ...\n",
      " $ Z_CostContact      : num [1:2240] 3 3 3 3 3 3 3 3 3 3 ...\n",
      " $ Z_Revenue          : num [1:2240] 11 11 11 11 11 11 11 11 11 11 ...\n",
      " $ Response           : num [1:2240] 1 0 0 0 0 0 0 0 1 0 ...\n",
      " - attr(*, \"spec\")=\n",
      "  .. cols(\n",
      "  ..   ID = \u001b[32mcol_double()\u001b[39m,\n",
      "  ..   Year_Birth = \u001b[32mcol_double()\u001b[39m,\n",
      "  ..   Education = \u001b[31mcol_character()\u001b[39m,\n",
      "  ..   Marital_Status = \u001b[31mcol_character()\u001b[39m,\n",
      "  ..   Income = \u001b[32mcol_double()\u001b[39m,\n",
      "  ..   Kidhome = \u001b[32mcol_double()\u001b[39m,\n",
      "  ..   Teenhome = \u001b[32mcol_double()\u001b[39m,\n",
      "  ..   Dt_Customer = \u001b[31mcol_character()\u001b[39m,\n",
      "  ..   Recency = \u001b[32mcol_double()\u001b[39m,\n",
      "  ..   MntWines = \u001b[32mcol_double()\u001b[39m,\n",
      "  ..   MntFruits = \u001b[32mcol_double()\u001b[39m,\n",
      "  ..   MntMeatProducts = \u001b[32mcol_double()\u001b[39m,\n",
      "  ..   MntFishProducts = \u001b[32mcol_double()\u001b[39m,\n",
      "  ..   MntSweetProducts = \u001b[32mcol_double()\u001b[39m,\n",
      "  ..   MntGoldProds = \u001b[32mcol_double()\u001b[39m,\n",
      "  ..   NumDealsPurchases = \u001b[32mcol_double()\u001b[39m,\n",
      "  ..   NumWebPurchases = \u001b[32mcol_double()\u001b[39m,\n",
      "  ..   NumCatalogPurchases = \u001b[32mcol_double()\u001b[39m,\n",
      "  ..   NumStorePurchases = \u001b[32mcol_double()\u001b[39m,\n",
      "  ..   NumWebVisitsMonth = \u001b[32mcol_double()\u001b[39m,\n",
      "  ..   AcceptedCmp3 = \u001b[32mcol_double()\u001b[39m,\n",
      "  ..   AcceptedCmp4 = \u001b[32mcol_double()\u001b[39m,\n",
      "  ..   AcceptedCmp5 = \u001b[32mcol_double()\u001b[39m,\n",
      "  ..   AcceptedCmp1 = \u001b[32mcol_double()\u001b[39m,\n",
      "  ..   AcceptedCmp2 = \u001b[32mcol_double()\u001b[39m,\n",
      "  ..   Complain = \u001b[32mcol_double()\u001b[39m,\n",
      "  ..   Z_CostContact = \u001b[32mcol_double()\u001b[39m,\n",
      "  ..   Z_Revenue = \u001b[32mcol_double()\u001b[39m,\n",
      "  ..   Response = \u001b[32mcol_double()\u001b[39m\n",
      "  .. )\n",
      " - attr(*, \"problems\")=<externalptr> \n"
     ]
    },
    {
     "data": {
      "text/html": [
       "<table class=\"dataframe\">\n",
       "<caption>A tibble: 6 × 29</caption>\n",
       "<thead>\n",
       "\t<tr><th scope=col>ID</th><th scope=col>Year_Birth</th><th scope=col>Education</th><th scope=col>Marital_Status</th><th scope=col>Income</th><th scope=col>Kidhome</th><th scope=col>Teenhome</th><th scope=col>Dt_Customer</th><th scope=col>Recency</th><th scope=col>MntWines</th><th scope=col>⋯</th><th scope=col>NumWebVisitsMonth</th><th scope=col>AcceptedCmp3</th><th scope=col>AcceptedCmp4</th><th scope=col>AcceptedCmp5</th><th scope=col>AcceptedCmp1</th><th scope=col>AcceptedCmp2</th><th scope=col>Complain</th><th scope=col>Z_CostContact</th><th scope=col>Z_Revenue</th><th scope=col>Response</th></tr>\n",
       "\t<tr><th scope=col>&lt;dbl&gt;</th><th scope=col>&lt;dbl&gt;</th><th scope=col>&lt;chr&gt;</th><th scope=col>&lt;chr&gt;</th><th scope=col>&lt;dbl&gt;</th><th scope=col>&lt;dbl&gt;</th><th scope=col>&lt;dbl&gt;</th><th scope=col>&lt;chr&gt;</th><th scope=col>&lt;dbl&gt;</th><th scope=col>&lt;dbl&gt;</th><th scope=col>⋯</th><th scope=col>&lt;dbl&gt;</th><th scope=col>&lt;dbl&gt;</th><th scope=col>&lt;dbl&gt;</th><th scope=col>&lt;dbl&gt;</th><th scope=col>&lt;dbl&gt;</th><th scope=col>&lt;dbl&gt;</th><th scope=col>&lt;dbl&gt;</th><th scope=col>&lt;dbl&gt;</th><th scope=col>&lt;dbl&gt;</th><th scope=col>&lt;dbl&gt;</th></tr>\n",
       "</thead>\n",
       "<tbody>\n",
       "\t<tr><td>5524</td><td>1957</td><td>Graduation</td><td>Single  </td><td>58138</td><td>0</td><td>0</td><td>04-09-2012</td><td>58</td><td>635</td><td>⋯</td><td>7</td><td>0</td><td>0</td><td>0</td><td>0</td><td>0</td><td>0</td><td>3</td><td>11</td><td>1</td></tr>\n",
       "\t<tr><td>2174</td><td>1954</td><td>Graduation</td><td>Single  </td><td>46344</td><td>1</td><td>1</td><td>08-03-2014</td><td>38</td><td> 11</td><td>⋯</td><td>5</td><td>0</td><td>0</td><td>0</td><td>0</td><td>0</td><td>0</td><td>3</td><td>11</td><td>0</td></tr>\n",
       "\t<tr><td>4141</td><td>1965</td><td>Graduation</td><td>Together</td><td>71613</td><td>0</td><td>0</td><td>21-08-2013</td><td>26</td><td>426</td><td>⋯</td><td>4</td><td>0</td><td>0</td><td>0</td><td>0</td><td>0</td><td>0</td><td>3</td><td>11</td><td>0</td></tr>\n",
       "\t<tr><td>6182</td><td>1984</td><td>Graduation</td><td>Together</td><td>26646</td><td>1</td><td>0</td><td>10-02-2014</td><td>26</td><td> 11</td><td>⋯</td><td>6</td><td>0</td><td>0</td><td>0</td><td>0</td><td>0</td><td>0</td><td>3</td><td>11</td><td>0</td></tr>\n",
       "\t<tr><td>5324</td><td>1981</td><td>PhD       </td><td>Married </td><td>58293</td><td>1</td><td>0</td><td>19-01-2014</td><td>94</td><td>173</td><td>⋯</td><td>5</td><td>0</td><td>0</td><td>0</td><td>0</td><td>0</td><td>0</td><td>3</td><td>11</td><td>0</td></tr>\n",
       "\t<tr><td>7446</td><td>1967</td><td>Master    </td><td>Together</td><td>62513</td><td>0</td><td>1</td><td>09-09-2013</td><td>16</td><td>520</td><td>⋯</td><td>6</td><td>0</td><td>0</td><td>0</td><td>0</td><td>0</td><td>0</td><td>3</td><td>11</td><td>0</td></tr>\n",
       "</tbody>\n",
       "</table>\n"
      ],
      "text/latex": [
       "A tibble: 6 × 29\n",
       "\\begin{tabular}{lllllllllllllllllllll}\n",
       " ID & Year\\_Birth & Education & Marital\\_Status & Income & Kidhome & Teenhome & Dt\\_Customer & Recency & MntWines & ⋯ & NumWebVisitsMonth & AcceptedCmp3 & AcceptedCmp4 & AcceptedCmp5 & AcceptedCmp1 & AcceptedCmp2 & Complain & Z\\_CostContact & Z\\_Revenue & Response\\\\\n",
       " <dbl> & <dbl> & <chr> & <chr> & <dbl> & <dbl> & <dbl> & <chr> & <dbl> & <dbl> & ⋯ & <dbl> & <dbl> & <dbl> & <dbl> & <dbl> & <dbl> & <dbl> & <dbl> & <dbl> & <dbl>\\\\\n",
       "\\hline\n",
       "\t 5524 & 1957 & Graduation & Single   & 58138 & 0 & 0 & 04-09-2012 & 58 & 635 & ⋯ & 7 & 0 & 0 & 0 & 0 & 0 & 0 & 3 & 11 & 1\\\\\n",
       "\t 2174 & 1954 & Graduation & Single   & 46344 & 1 & 1 & 08-03-2014 & 38 &  11 & ⋯ & 5 & 0 & 0 & 0 & 0 & 0 & 0 & 3 & 11 & 0\\\\\n",
       "\t 4141 & 1965 & Graduation & Together & 71613 & 0 & 0 & 21-08-2013 & 26 & 426 & ⋯ & 4 & 0 & 0 & 0 & 0 & 0 & 0 & 3 & 11 & 0\\\\\n",
       "\t 6182 & 1984 & Graduation & Together & 26646 & 1 & 0 & 10-02-2014 & 26 &  11 & ⋯ & 6 & 0 & 0 & 0 & 0 & 0 & 0 & 3 & 11 & 0\\\\\n",
       "\t 5324 & 1981 & PhD        & Married  & 58293 & 1 & 0 & 19-01-2014 & 94 & 173 & ⋯ & 5 & 0 & 0 & 0 & 0 & 0 & 0 & 3 & 11 & 0\\\\\n",
       "\t 7446 & 1967 & Master     & Together & 62513 & 0 & 1 & 09-09-2013 & 16 & 520 & ⋯ & 6 & 0 & 0 & 0 & 0 & 0 & 0 & 3 & 11 & 0\\\\\n",
       "\\end{tabular}\n"
      ],
      "text/markdown": [
       "\n",
       "A tibble: 6 × 29\n",
       "\n",
       "| ID &lt;dbl&gt; | Year_Birth &lt;dbl&gt; | Education &lt;chr&gt; | Marital_Status &lt;chr&gt; | Income &lt;dbl&gt; | Kidhome &lt;dbl&gt; | Teenhome &lt;dbl&gt; | Dt_Customer &lt;chr&gt; | Recency &lt;dbl&gt; | MntWines &lt;dbl&gt; | ⋯ ⋯ | NumWebVisitsMonth &lt;dbl&gt; | AcceptedCmp3 &lt;dbl&gt; | AcceptedCmp4 &lt;dbl&gt; | AcceptedCmp5 &lt;dbl&gt; | AcceptedCmp1 &lt;dbl&gt; | AcceptedCmp2 &lt;dbl&gt; | Complain &lt;dbl&gt; | Z_CostContact &lt;dbl&gt; | Z_Revenue &lt;dbl&gt; | Response &lt;dbl&gt; |\n",
       "|---|---|---|---|---|---|---|---|---|---|---|---|---|---|---|---|---|---|---|---|---|\n",
       "| 5524 | 1957 | Graduation | Single   | 58138 | 0 | 0 | 04-09-2012 | 58 | 635 | ⋯ | 7 | 0 | 0 | 0 | 0 | 0 | 0 | 3 | 11 | 1 |\n",
       "| 2174 | 1954 | Graduation | Single   | 46344 | 1 | 1 | 08-03-2014 | 38 |  11 | ⋯ | 5 | 0 | 0 | 0 | 0 | 0 | 0 | 3 | 11 | 0 |\n",
       "| 4141 | 1965 | Graduation | Together | 71613 | 0 | 0 | 21-08-2013 | 26 | 426 | ⋯ | 4 | 0 | 0 | 0 | 0 | 0 | 0 | 3 | 11 | 0 |\n",
       "| 6182 | 1984 | Graduation | Together | 26646 | 1 | 0 | 10-02-2014 | 26 |  11 | ⋯ | 6 | 0 | 0 | 0 | 0 | 0 | 0 | 3 | 11 | 0 |\n",
       "| 5324 | 1981 | PhD        | Married  | 58293 | 1 | 0 | 19-01-2014 | 94 | 173 | ⋯ | 5 | 0 | 0 | 0 | 0 | 0 | 0 | 3 | 11 | 0 |\n",
       "| 7446 | 1967 | Master     | Together | 62513 | 0 | 1 | 09-09-2013 | 16 | 520 | ⋯ | 6 | 0 | 0 | 0 | 0 | 0 | 0 | 3 | 11 | 0 |\n",
       "\n"
      ],
      "text/plain": [
       "  ID   Year_Birth Education  Marital_Status Income Kidhome Teenhome Dt_Customer\n",
       "1 5524 1957       Graduation Single         58138  0       0        04-09-2012 \n",
       "2 2174 1954       Graduation Single         46344  1       1        08-03-2014 \n",
       "3 4141 1965       Graduation Together       71613  0       0        21-08-2013 \n",
       "4 6182 1984       Graduation Together       26646  1       0        10-02-2014 \n",
       "5 5324 1981       PhD        Married        58293  1       0        19-01-2014 \n",
       "6 7446 1967       Master     Together       62513  0       1        09-09-2013 \n",
       "  Recency MntWines ⋯ NumWebVisitsMonth AcceptedCmp3 AcceptedCmp4 AcceptedCmp5\n",
       "1 58      635      ⋯ 7                 0            0            0           \n",
       "2 38       11      ⋯ 5                 0            0            0           \n",
       "3 26      426      ⋯ 4                 0            0            0           \n",
       "4 26       11      ⋯ 6                 0            0            0           \n",
       "5 94      173      ⋯ 5                 0            0            0           \n",
       "6 16      520      ⋯ 6                 0            0            0           \n",
       "  AcceptedCmp1 AcceptedCmp2 Complain Z_CostContact Z_Revenue Response\n",
       "1 0            0            0        3             11        1       \n",
       "2 0            0            0        3             11        0       \n",
       "3 0            0            0        3             11        0       \n",
       "4 0            0            0        3             11        0       \n",
       "5 0            0            0        3             11        0       \n",
       "6 0            0            0        3             11        0       "
      ]
     },
     "metadata": {},
     "output_type": "display_data"
    }
   ],
   "source": [
    "# Read the CSV file with specified column types \n",
    "market_data <- as_factor(read_delim(\"https://raw.githubusercontent.com/DrakenRaptor/STAT301_ProjectGrp26/refs/heads/main/marketing_campaign.csv\", delim = \"\\t\"))\n",
    "\n",
    "# Check the structure of data types \n",
    "str(market_data)\n",
    "\n",
    "head(market_data)\n"
   ]
  },
  {
   "cell_type": "markdown",
   "metadata": {
    "vscode": {
     "languageId": "r"
    }
   },
   "source": [
    "## Research Question (Question of Interest)\n",
    "\n",
    "How is customer income related to their spending patterns, specifically the number of web purchases, catalog purchases, store purchases, and website visits, and how do education level and marital status influence these spending behaviors?\n",
    "\n",
    "**<br> Legend:**\n",
    "- `Income` is the response variable where it measured in USD.\n",
    "- `Education` is a qualitative variable that takes 4 values for different level of education as in the code below.\n",
    "- `Marital_Status` is a dummy variable that indicates `1` if the respondent is married, otherwise 0.\n",
    "- `NumWebPurchases` is \n",
    "- `NumCatalogPurchases` \n",
    "- `NumStorePurchases`\n",
    "- `NumWebVisitsMonth` are explanatory variables "
   ]
  },
  {
   "cell_type": "code",
   "execution_count": 3,
   "metadata": {
    "vscode": {
     "languageId": "r"
    }
   },
   "outputs": [
    {
     "data": {
      "text/html": [
       "<style>\n",
       ".list-inline {list-style: none; margin:0; padding: 0}\n",
       ".list-inline>li {display: inline-block}\n",
       ".list-inline>li:not(:last-child)::after {content: \"\\00b7\"; padding: 0 .5ex}\n",
       "</style>\n",
       "<ol class=list-inline><li>'Graduation'</li><li>'PhD'</li><li>'Master'</li><li>'Basic'</li><li>'2n Cycle'</li></ol>\n"
      ],
      "text/latex": [
       "\\begin{enumerate*}\n",
       "\\item 'Graduation'\n",
       "\\item 'PhD'\n",
       "\\item 'Master'\n",
       "\\item 'Basic'\n",
       "\\item '2n Cycle'\n",
       "\\end{enumerate*}\n"
      ],
      "text/markdown": [
       "1. 'Graduation'\n",
       "2. 'PhD'\n",
       "3. 'Master'\n",
       "4. 'Basic'\n",
       "5. '2n Cycle'\n",
       "\n",
       "\n"
      ],
      "text/plain": [
       "[1] \"Graduation\" \"PhD\"        \"Master\"     \"Basic\"      \"2n Cycle\"  "
      ]
     },
     "metadata": {},
     "output_type": "display_data"
    },
    {
     "data": {
      "text/html": [
       "<style>\n",
       ".list-inline {list-style: none; margin:0; padding: 0}\n",
       ".list-inline>li {display: inline-block}\n",
       ".list-inline>li:not(:last-child)::after {content: \"\\00b7\"; padding: 0 .5ex}\n",
       "</style>\n",
       "<ol class=list-inline><li>'Single'</li><li>'Together'</li><li>'Married'</li><li>'Divorced'</li><li>'Widow'</li><li>'Alone'</li><li>'Absurd'</li><li>'YOLO'</li></ol>\n"
      ],
      "text/latex": [
       "\\begin{enumerate*}\n",
       "\\item 'Single'\n",
       "\\item 'Together'\n",
       "\\item 'Married'\n",
       "\\item 'Divorced'\n",
       "\\item 'Widow'\n",
       "\\item 'Alone'\n",
       "\\item 'Absurd'\n",
       "\\item 'YOLO'\n",
       "\\end{enumerate*}\n"
      ],
      "text/markdown": [
       "1. 'Single'\n",
       "2. 'Together'\n",
       "3. 'Married'\n",
       "4. 'Divorced'\n",
       "5. 'Widow'\n",
       "6. 'Alone'\n",
       "7. 'Absurd'\n",
       "8. 'YOLO'\n",
       "\n",
       "\n"
      ],
      "text/plain": [
       "[1] \"Single\"   \"Together\" \"Married\"  \"Divorced\" \"Widow\"    \"Alone\"    \"Absurd\"  \n",
       "[8] \"YOLO\"    "
      ]
     },
     "metadata": {},
     "output_type": "display_data"
    }
   ],
   "source": [
    "unique(market_data$Education)   # Possible covariates to be used as factor variables for research model\n",
    "unique(market_data$Marital_Status)     # Possible covariates to be used as factor variables for research model, to classify YOLO as single?"
   ]
  },
  {
   "cell_type": "code",
   "execution_count": 4,
   "metadata": {
    "vscode": {
     "languageId": "r"
    }
   },
   "outputs": [
    {
     "data": {
      "text/html": [
       "<table class=\"dataframe\">\n",
       "<caption>A spec_tbl_df: 1 × 1</caption>\n",
       "<thead>\n",
       "\t<tr><th scope=col>n</th></tr>\n",
       "\t<tr><th scope=col>&lt;int&gt;</th></tr>\n",
       "</thead>\n",
       "<tbody>\n",
       "\t<tr><td>203</td></tr>\n",
       "</tbody>\n",
       "</table>\n"
      ],
      "text/latex": [
       "A spec\\_tbl\\_df: 1 × 1\n",
       "\\begin{tabular}{l}\n",
       " n\\\\\n",
       " <int>\\\\\n",
       "\\hline\n",
       "\t 203\\\\\n",
       "\\end{tabular}\n"
      ],
      "text/markdown": [
       "\n",
       "A spec_tbl_df: 1 × 1\n",
       "\n",
       "| n &lt;int&gt; |\n",
       "|---|\n",
       "| 203 |\n",
       "\n"
      ],
      "text/plain": [
       "  n  \n",
       "1 203"
      ]
     },
     "metadata": {},
     "output_type": "display_data"
    },
    {
     "data": {
      "text/html": [
       "<style>\n",
       ".list-inline {list-style: none; margin:0; padding: 0}\n",
       ".list-inline>li {display: inline-block}\n",
       ".list-inline>li:not(:last-child)::after {content: \"\\00b7\"; padding: 0 .5ex}\n",
       "</style>\n",
       "<ol class=list-inline><li>'Graduation'</li><li>'PhD'</li><li>'Master'</li><li>'Basic'</li></ol>\n"
      ],
      "text/latex": [
       "\\begin{enumerate*}\n",
       "\\item 'Graduation'\n",
       "\\item 'PhD'\n",
       "\\item 'Master'\n",
       "\\item 'Basic'\n",
       "\\end{enumerate*}\n"
      ],
      "text/markdown": [
       "1. 'Graduation'\n",
       "2. 'PhD'\n",
       "3. 'Master'\n",
       "4. 'Basic'\n",
       "\n",
       "\n"
      ],
      "text/plain": [
       "[1] \"Graduation\" \"PhD\"        \"Master\"     \"Basic\"     "
      ]
     },
     "metadata": {},
     "output_type": "display_data"
    },
    {
     "data": {
      "text/html": [
       "<style>\n",
       ".list-inline {list-style: none; margin:0; padding: 0}\n",
       ".list-inline>li {display: inline-block}\n",
       ".list-inline>li:not(:last-child)::after {content: \"\\00b7\"; padding: 0 .5ex}\n",
       "</style>\n",
       "<ol class=list-inline><li>'Single'</li><li>'Married'</li><li>'Divorced'</li><li>'Widow'</li></ol>\n"
      ],
      "text/latex": [
       "\\begin{enumerate*}\n",
       "\\item 'Single'\n",
       "\\item 'Married'\n",
       "\\item 'Divorced'\n",
       "\\item 'Widow'\n",
       "\\end{enumerate*}\n"
      ],
      "text/markdown": [
       "1. 'Single'\n",
       "2. 'Married'\n",
       "3. 'Divorced'\n",
       "4. 'Widow'\n",
       "\n",
       "\n"
      ],
      "text/plain": [
       "[1] \"Single\"   \"Married\"  \"Divorced\" \"Widow\"   "
      ]
     },
     "metadata": {},
     "output_type": "display_data"
    }
   ],
   "source": [
    "# Check for 2n Cycle education count, 2n cycle is the same as Master's degree\n",
    "# TO reclassify them as Master's degree\n",
    "specific_2n_count <- market_data %>%\n",
    "  filter(Education == \"2n Cycle\") |>\n",
    "  count()\n",
    "\n",
    "specific_2n_count\n",
    "\n",
    "# Reclassify 2n Cycle as Master's degree using case_when\n",
    "market_data <- market_data %>%\n",
    "    mutate(Education = case_when(\n",
    "        Education == \"2n Cycle\" ~ \"Master\",\n",
    "        TRUE ~ Education\n",
    "    ))\n",
    "\n",
    "unique(market_data$Education)   # Check if 2n Cycle has been reclassified as Master's degree\n",
    "\n",
    "# Reclassify YOLO, Absurd, Togethe, Alone as single, since it is the same as single\n",
    "market_data <- market_data %>%\n",
    "    mutate(Marital_Status = case_when(\n",
    "        Marital_Status == \"YOLO\" ~ \"Single\",\n",
    "        Marital_Status == \"Absurd\" ~ \"Single\",\n",
    "        Marital_Status == \"Together\" ~ \"Single\",\n",
    "        Marital_Status == \"Alone\" ~ \"Single\",\n",
    "        TRUE ~ Marital_Status\n",
    "    ))\n",
    "  \n",
    "unique(market_data$Marital_Status)   # Check if YOLO, Absurd, Together, Alone has been reclassified as Single\n"
   ]
  },
  {
   "cell_type": "code",
   "execution_count": null,
   "metadata": {
    "vscode": {
     "languageId": "r"
    }
   },
   "outputs": [],
   "source": []
  }
 ],
 "metadata": {
  "kernelspec": {
   "display_name": "R",
   "language": "R",
   "name": "ir"
  },
  "language_info": {
   "codemirror_mode": "r",
   "file_extension": ".r",
   "mimetype": "text/x-r-source",
   "name": "R",
   "pygments_lexer": "r",
   "version": "4.4.2"
  }
 },
 "nbformat": 4,
 "nbformat_minor": 2
}
